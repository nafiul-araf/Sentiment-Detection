{
 "cells": [
  {
   "cell_type": "code",
   "execution_count": 4,
   "id": "2056c730",
   "metadata": {},
   "outputs": [],
   "source": [
    "# Load Database Pkg\n",
    "import sqlite3\n",
    "conn = sqlite3.connect('data.db',check_same_thread=False)\n",
    "c = conn.cursor()\n",
    "\n",
    "\n",
    "# Fxn\n",
    "def create_page_visited_table():\n",
    "    c.execute('CREATE TABLE IF NOT EXISTS pageTrackTable(pagename TEXT,timeOfvisit TIMESTAMP)')\n",
    "\n",
    "def add_page_visited_details(pagename,timeOfvisit):\n",
    "    c.execute('INSERT INTO pageTrackTable(pagename,timeOfvisit) VALUES(?,?)',(pagename,timeOfvisit))\n",
    "    conn.commit()\n",
    "\n",
    "def view_all_page_visited_details():\n",
    "    c.execute('SELECT * FROM pageTrackTable')\n",
    "    data = c.fetchall()\n",
    "    return data\n",
    "\n",
    "\n",
    "# Fxn To Track Input & Prediction\n",
    "def create_emotionclf_table():\n",
    "    c.execute('CREATE TABLE IF NOT EXISTS emotionclfTable(rawtext TEXT,prediction TEXT,probability NUMBER,timeOfvisit TIMESTAMP)')\n",
    "\n",
    "def add_prediction_details(rawtext,prediction,probability,timeOfvisit):\n",
    "    c.execute('INSERT INTO emotionclfTable(rawtext,prediction,probability,timeOfvisit) VALUES(?,?,?,?)',(rawtext,prediction,probability,timeOfvisit))\n",
    "    conn.commit()\n",
    "\n",
    "def view_all_prediction_details():\n",
    "    c.execute('SELECT * FROM emotionclfTable')\n",
    "    data = c.fetchall()\n",
    "    return data"
   ]
  },
  {
   "cell_type": "code",
   "execution_count": null,
   "id": "a7ec00f5",
   "metadata": {},
   "outputs": [],
   "source": []
  }
 ],
 "metadata": {
  "kernelspec": {
   "display_name": "Python 3",
   "language": "python",
   "name": "python3"
  },
  "language_info": {
   "codemirror_mode": {
    "name": "ipython",
    "version": 3
   },
   "file_extension": ".py",
   "mimetype": "text/x-python",
   "name": "python",
   "nbconvert_exporter": "python",
   "pygments_lexer": "ipython3",
   "version": "3.9.4"
  }
 },
 "nbformat": 4,
 "nbformat_minor": 5
}
