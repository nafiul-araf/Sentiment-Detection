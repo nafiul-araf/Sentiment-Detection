{
 "cells": [
  {
   "cell_type": "code",
   "execution_count": 8,
   "id": "77eb4b12",
   "metadata": {},
   "outputs": [],
   "source": [
    "# Core Pkgs\n",
    "import streamlit as st \n",
    "import altair as alt\n",
    "import plotly.express as px \n",
    "\n",
    "# EDA Pkgs\n",
    "import pandas as pd \n",
    "import numpy as np \n",
    "from datetime import datetime\n",
    "\n",
    "# Utils\n",
    "import joblib\n",
    "\n",
    "# Track Utils\n",
    "from track_utils import create_page_visited_table,add_page_visited_details,view_all_page_visited_details,add_prediction_details,view_all_prediction_details,create_emotionclf_table"
   ]
  },
  {
   "cell_type": "code",
   "execution_count": 9,
   "id": "68bd2ac4",
   "metadata": {},
   "outputs": [],
   "source": [
    "pipe_lr=joblib.load(open(\"emotion_classifier_pipe_lr.pkl\",\"rb\"))"
   ]
  },
  {
   "cell_type": "code",
   "execution_count": 10,
   "id": "9e00cd09",
   "metadata": {},
   "outputs": [
    {
     "data": {
      "text/plain": [
       "Pipeline(steps=[('cv', CountVectorizer(max_features=2500, ngram_range=(1, 3))),\n",
       "                ('lr',\n",
       "                 LogisticRegression(max_iter=5000, random_state=0,\n",
       "                                    solver='saga'))])"
      ]
     },
     "execution_count": 10,
     "metadata": {},
     "output_type": "execute_result"
    }
   ],
   "source": [
    "pipe_lr"
   ]
  },
  {
   "cell_type": "code",
   "execution_count": 11,
   "id": "b9940962",
   "metadata": {},
   "outputs": [],
   "source": [
    "def predict_emotions(docx):\n",
    "    results=pipe_lr.predict([docx])\n",
    "    return results[0]\n",
    "\n",
    "def get_prediction_proba(docx):\n",
    "    results=pipe_lr.predict_proba([docx])\n",
    "    return results"
   ]
  },
  {
   "cell_type": "code",
   "execution_count": 12,
   "id": "30c3ba3e",
   "metadata": {},
   "outputs": [],
   "source": [
    "emotions_emoji_dict={\"anger\":\"😠\", \"fear\":\"😨\", \"happy\":\"🤗\", \"sadness\":\"😔\", \"surprise\":\"😮\", \"love\":\"❤️\"}"
   ]
  },
  {
   "cell_type": "code",
   "execution_count": 13,
   "id": "0d40b174",
   "metadata": {},
   "outputs": [],
   "source": [
    "def main():\n",
    "    st.title(\"Emotion Classifier App\")\n",
    "    menu=[\"Home\", \"Monitor\", \"About\"]\n",
    "    choice=st.sidebar.selectbox(\"Menu\", menu)\n",
    "    create_page_visited_table()\n",
    "    create_emotionclf_table()\n",
    "    \n",
    "    if choice == \"Home\":\n",
    "        add_page_visited_details(\"Home\", datetime.now())\n",
    "        st.subheader(\"Home-Emotion In Text\")\n",
    "        \n",
    "        with st.form(key='emotion_clf_form'):\n",
    "            raw_text=st.text_area(\"Type Here\")\n",
    "            submit_text=st.form_submit_button(label='Submit')\n",
    "        \n",
    "        if submit_text:\n",
    "            col1,col2=st.columns(2)\n",
    "            # Apply Fxn Here\n",
    "            prediction=predict_emotions(raw_text)\n",
    "            probability=get_prediction_proba(raw_text)\n",
    "            add_prediction_details(raw_text,prediction,np.max(probability),datetime.now())\n",
    "            \n",
    "            with col1:\n",
    "                st.success(\"Original Text\")\n",
    "                st.write(raw_text)\n",
    "                st.success(\"Prediction\")\n",
    "                emoji_icon=emotions_emoji_dict[prediction]\n",
    "                st.write(\"{}:{}\".format(prediction,emoji_icon))\n",
    "                st.write(\"Confidence:{}\".format(np.max(probability)))\n",
    "                \n",
    "            with col2:\n",
    "                st.success(\"Prediction Probability\")\n",
    "                # st.write(probability)\n",
    "                proba_df=pd.DataFrame(probability,columns=pipe_lr.classes_)\n",
    "                # st.write(proba_df.T)\n",
    "                proba_df_clean=proba_df.T.reset_index()\n",
    "                proba_df_clean.columns=[\"emotions\",\"probability\"]\n",
    "\n",
    "                fig=alt.Chart(proba_df_clean).mark_bar().encode(x='emotions',y='probability',color='emotions')\n",
    "                st.altair_chart(fig,use_container_width=True)\n",
    "    \n",
    "    \n",
    "    elif choice == \"Monitor\":\n",
    "        add_page_visited_details(\"Monitor\",datetime.now())\n",
    "        st.subheader(\"Monitor App\")\n",
    "        \n",
    "        with st.expander(\"Page Metrics\"):\n",
    "            page_visited_details=pd.DataFrame(view_all_page_visited_details(),columns=['Pagename','Time_of_Visit'])\n",
    "            st.dataframe(page_visited_details)\n",
    "            pg_count=page_visited_details['Pagename'].value_counts().rename_axis('Pagename').reset_index(name='Counts')\n",
    "            c=alt.Chart(pg_count).mark_bar().encode(x='Pagename',y='Counts',color='Pagename')\n",
    "            st.altair_chart(c,use_container_width=True)\n",
    "            \n",
    "            p=px.pie(pg_count,values='Counts',names='Pagename')\n",
    "            st.plotly_chart(p,use_container_width=True)\n",
    "            \n",
    "            with st.expander('Emotion Classifier Metrics'):\n",
    "                df_emotions=pd.DataFrame(view_all_prediction_details(),columns=['Rawtext','Prediction','Probability','Time_of_Visit'])\n",
    "                st.dataframe(df_emotions)\n",
    "                \n",
    "                prediction_count=df_emotions['Prediction'].value_counts().rename_axis('Prediction').reset_index(name='Counts')\n",
    "                \n",
    "                pc=alt.Chart(prediction_count).mark_bar().encode(x='Prediction',y='Counts',color='Prediction')\n",
    "                st.altair_chart(pc,use_container_width=True)\n",
    "    \n",
    "    else:\n",
    "        st.subheader(\"About\")\n",
    "        add_page_visited_details(\"About\",datetime.now())\n",
    "\n",
    "\n",
    "if __name__ == '__main__':\n",
    "    main()"
   ]
  },
  {
   "cell_type": "code",
   "execution_count": null,
   "id": "27ea1188",
   "metadata": {},
   "outputs": [],
   "source": []
  }
 ],
 "metadata": {
  "kernelspec": {
   "display_name": "Python 3",
   "language": "python",
   "name": "python3"
  },
  "language_info": {
   "codemirror_mode": {
    "name": "ipython",
    "version": 3
   },
   "file_extension": ".py",
   "mimetype": "text/x-python",
   "name": "python",
   "nbconvert_exporter": "python",
   "pygments_lexer": "ipython3",
   "version": "3.9.4"
  }
 },
 "nbformat": 4,
 "nbformat_minor": 5
}
