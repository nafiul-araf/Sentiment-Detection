{
 "cells": [
  {
   "cell_type": "markdown",
   "id": "cc34d70a",
   "metadata": {},
   "source": [
    "# Data Loading"
   ]
  },
  {
   "cell_type": "code",
   "execution_count": 1,
   "id": "d9826769",
   "metadata": {},
   "outputs": [],
   "source": [
    "import numpy as np\n",
    "import pandas as pd\n",
    "import matplotlib.pyplot as plt\n",
    "import seaborn as sns\n",
    "\n",
    "%matplotlib inline"
   ]
  },
  {
   "cell_type": "code",
   "execution_count": 2,
   "id": "a571d3a3",
   "metadata": {},
   "outputs": [
    {
     "data": {
      "text/html": [
       "<div>\n",
       "<style scoped>\n",
       "    .dataframe tbody tr th:only-of-type {\n",
       "        vertical-align: middle;\n",
       "    }\n",
       "\n",
       "    .dataframe tbody tr th {\n",
       "        vertical-align: top;\n",
       "    }\n",
       "\n",
       "    .dataframe thead th {\n",
       "        text-align: right;\n",
       "    }\n",
       "</style>\n",
       "<table border=\"1\" class=\"dataframe\">\n",
       "  <thead>\n",
       "    <tr style=\"text-align: right;\">\n",
       "      <th></th>\n",
       "      <th>Text</th>\n",
       "      <th>Emotion</th>\n",
       "      <th>Clean_text</th>\n",
       "    </tr>\n",
       "  </thead>\n",
       "  <tbody>\n",
       "    <tr>\n",
       "      <th>0</th>\n",
       "      <td>i didnt feel humiliated</td>\n",
       "      <td>sadness</td>\n",
       "      <td>didnt feel humiliated</td>\n",
       "    </tr>\n",
       "    <tr>\n",
       "      <th>1</th>\n",
       "      <td>i can go from feeling so hopeless to so damned...</td>\n",
       "      <td>sadness</td>\n",
       "      <td>feeling hopeless damned hopeful cares awake</td>\n",
       "    </tr>\n",
       "    <tr>\n",
       "      <th>2</th>\n",
       "      <td>im grabbing a minute to post i feel greedy wrong</td>\n",
       "      <td>anger</td>\n",
       "      <td>im grabbing minute post feel greedy wrong</td>\n",
       "    </tr>\n",
       "    <tr>\n",
       "      <th>3</th>\n",
       "      <td>i am ever feeling nostalgic about the fireplac...</td>\n",
       "      <td>love</td>\n",
       "      <td>feeling nostalgic fireplace know property</td>\n",
       "    </tr>\n",
       "    <tr>\n",
       "      <th>4</th>\n",
       "      <td>i am feeling grouchy</td>\n",
       "      <td>anger</td>\n",
       "      <td>feeling grouchy</td>\n",
       "    </tr>\n",
       "  </tbody>\n",
       "</table>\n",
       "</div>"
      ],
      "text/plain": [
       "                                                Text  Emotion  \\\n",
       "0                            i didnt feel humiliated  sadness   \n",
       "1  i can go from feeling so hopeless to so damned...  sadness   \n",
       "2   im grabbing a minute to post i feel greedy wrong    anger   \n",
       "3  i am ever feeling nostalgic about the fireplac...     love   \n",
       "4                               i am feeling grouchy    anger   \n",
       "\n",
       "                                    Clean_text  \n",
       "0                        didnt feel humiliated  \n",
       "1  feeling hopeless damned hopeful cares awake  \n",
       "2    im grabbing minute post feel greedy wrong  \n",
       "3    feeling nostalgic fireplace know property  \n",
       "4                              feeling grouchy  "
      ]
     },
     "execution_count": 2,
     "metadata": {},
     "output_type": "execute_result"
    }
   ],
   "source": [
    "df=pd.read_csv('clean_data.csv')\n",
    "df.head()"
   ]
  },
  {
   "cell_type": "code",
   "execution_count": 3,
   "id": "f0b547f4",
   "metadata": {},
   "outputs": [
    {
     "data": {
      "text/html": [
       "<div>\n",
       "<style scoped>\n",
       "    .dataframe tbody tr th:only-of-type {\n",
       "        vertical-align: middle;\n",
       "    }\n",
       "\n",
       "    .dataframe tbody tr th {\n",
       "        vertical-align: top;\n",
       "    }\n",
       "\n",
       "    .dataframe thead th {\n",
       "        text-align: right;\n",
       "    }\n",
       "</style>\n",
       "<table border=\"1\" class=\"dataframe\">\n",
       "  <thead>\n",
       "    <tr style=\"text-align: right;\">\n",
       "      <th></th>\n",
       "      <th>Emotion</th>\n",
       "      <th>Clean_text</th>\n",
       "    </tr>\n",
       "  </thead>\n",
       "  <tbody>\n",
       "    <tr>\n",
       "      <th>0</th>\n",
       "      <td>sadness</td>\n",
       "      <td>didnt feel humiliated</td>\n",
       "    </tr>\n",
       "    <tr>\n",
       "      <th>1</th>\n",
       "      <td>sadness</td>\n",
       "      <td>feeling hopeless damned hopeful cares awake</td>\n",
       "    </tr>\n",
       "    <tr>\n",
       "      <th>2</th>\n",
       "      <td>anger</td>\n",
       "      <td>im grabbing minute post feel greedy wrong</td>\n",
       "    </tr>\n",
       "  </tbody>\n",
       "</table>\n",
       "</div>"
      ],
      "text/plain": [
       "   Emotion                                   Clean_text\n",
       "0  sadness                        didnt feel humiliated\n",
       "1  sadness  feeling hopeless damned hopeful cares awake\n",
       "2    anger    im grabbing minute post feel greedy wrong"
      ]
     },
     "execution_count": 3,
     "metadata": {},
     "output_type": "execute_result"
    }
   ],
   "source": [
    "df.drop('Text', axis=1, inplace=True)\n",
    "df.head(3)"
   ]
  },
  {
   "cell_type": "markdown",
   "id": "de5382e0",
   "metadata": {},
   "source": [
    "# Analysis"
   ]
  },
  {
   "cell_type": "code",
   "execution_count": 4,
   "id": "2f7c347c",
   "metadata": {},
   "outputs": [
    {
     "data": {
      "text/plain": [
       "array(['sadness', 'anger', 'love', 'surprise', 'fear', 'happy'],\n",
       "      dtype=object)"
      ]
     },
     "execution_count": 4,
     "metadata": {},
     "output_type": "execute_result"
    }
   ],
   "source": [
    "df.Emotion.unique()"
   ]
  },
  {
   "cell_type": "code",
   "execution_count": 5,
   "id": "e43b4d46",
   "metadata": {},
   "outputs": [
    {
     "data": {
      "text/plain": [
       "happy       7029\n",
       "sadness     6265\n",
       "anger       2993\n",
       "fear        2652\n",
       "love        1641\n",
       "surprise     879\n",
       "Name: Emotion, dtype: int64"
      ]
     },
     "execution_count": 5,
     "metadata": {},
     "output_type": "execute_result"
    }
   ],
   "source": [
    "df.Emotion.value_counts()"
   ]
  },
  {
   "cell_type": "code",
   "execution_count": 6,
   "id": "cbced362",
   "metadata": {},
   "outputs": [
    {
     "data": {
      "text/plain": [
       "pandas.core.frame.DataFrame"
      ]
     },
     "execution_count": 6,
     "metadata": {},
     "output_type": "execute_result"
    }
   ],
   "source": [
    "sadness=df[df['Emotion'] == 'sadness']\n",
    "type(sadness)"
   ]
  },
  {
   "cell_type": "code",
   "execution_count": 7,
   "id": "8d686565",
   "metadata": {},
   "outputs": [
    {
     "data": {
      "text/html": [
       "<div>\n",
       "<style scoped>\n",
       "    .dataframe tbody tr th:only-of-type {\n",
       "        vertical-align: middle;\n",
       "    }\n",
       "\n",
       "    .dataframe tbody tr th {\n",
       "        vertical-align: top;\n",
       "    }\n",
       "\n",
       "    .dataframe thead th {\n",
       "        text-align: right;\n",
       "    }\n",
       "</style>\n",
       "<table border=\"1\" class=\"dataframe\">\n",
       "  <thead>\n",
       "    <tr style=\"text-align: right;\">\n",
       "      <th></th>\n",
       "      <th>Emotion</th>\n",
       "      <th>Clean_text</th>\n",
       "    </tr>\n",
       "  </thead>\n",
       "  <tbody>\n",
       "    <tr>\n",
       "      <th>0</th>\n",
       "      <td>sadness</td>\n",
       "      <td>didnt feel humiliated</td>\n",
       "    </tr>\n",
       "    <tr>\n",
       "      <th>1</th>\n",
       "      <td>sadness</td>\n",
       "      <td>feeling hopeless damned hopeful cares awake</td>\n",
       "    </tr>\n",
       "    <tr>\n",
       "      <th>5</th>\n",
       "      <td>sadness</td>\n",
       "      <td>ive feeling little burdened lately wasnt sure</td>\n",
       "    </tr>\n",
       "    <tr>\n",
       "      <th>10</th>\n",
       "      <td>sadness</td>\n",
       "      <td>feel like suffering seeing mean</td>\n",
       "    </tr>\n",
       "    <tr>\n",
       "      <th>13</th>\n",
       "      <td>sadness</td>\n",
       "      <td>feel low energy thirsty</td>\n",
       "    </tr>\n",
       "  </tbody>\n",
       "</table>\n",
       "</div>"
      ],
      "text/plain": [
       "    Emotion                                     Clean_text\n",
       "0   sadness                          didnt feel humiliated\n",
       "1   sadness    feeling hopeless damned hopeful cares awake\n",
       "5   sadness  ive feeling little burdened lately wasnt sure\n",
       "10  sadness                feel like suffering seeing mean\n",
       "13  sadness                        feel low energy thirsty"
      ]
     },
     "execution_count": 7,
     "metadata": {},
     "output_type": "execute_result"
    }
   ],
   "source": [
    "sadness.head()"
   ]
  },
  {
   "cell_type": "code",
   "execution_count": 8,
   "id": "3ff3e267",
   "metadata": {},
   "outputs": [
    {
     "data": {
      "text/html": [
       "<div>\n",
       "<style scoped>\n",
       "    .dataframe tbody tr th:only-of-type {\n",
       "        vertical-align: middle;\n",
       "    }\n",
       "\n",
       "    .dataframe tbody tr th {\n",
       "        vertical-align: top;\n",
       "    }\n",
       "\n",
       "    .dataframe thead th {\n",
       "        text-align: right;\n",
       "    }\n",
       "</style>\n",
       "<table border=\"1\" class=\"dataframe\">\n",
       "  <thead>\n",
       "    <tr style=\"text-align: right;\">\n",
       "      <th></th>\n",
       "      <th>Emotion</th>\n",
       "      <th>Clean_text</th>\n",
       "    </tr>\n",
       "  </thead>\n",
       "  <tbody>\n",
       "    <tr>\n",
       "      <th>2</th>\n",
       "      <td>anger</td>\n",
       "      <td>im grabbing minute post feel greedy wrong</td>\n",
       "    </tr>\n",
       "    <tr>\n",
       "      <th>4</th>\n",
       "      <td>anger</td>\n",
       "      <td>feeling grouchy</td>\n",
       "    </tr>\n",
       "    <tr>\n",
       "      <th>12</th>\n",
       "      <td>anger</td>\n",
       "      <td>think easiest time year feel dissatisfied</td>\n",
       "    </tr>\n",
       "    <tr>\n",
       "      <th>20</th>\n",
       "      <td>anger</td>\n",
       "      <td>feel irritated rejected saying</td>\n",
       "    </tr>\n",
       "    <tr>\n",
       "      <th>24</th>\n",
       "      <td>anger</td>\n",
       "      <td>feel like fucked dont usually eat morning</td>\n",
       "    </tr>\n",
       "  </tbody>\n",
       "</table>\n",
       "</div>"
      ],
      "text/plain": [
       "   Emotion                                 Clean_text\n",
       "2    anger  im grabbing minute post feel greedy wrong\n",
       "4    anger                            feeling grouchy\n",
       "12   anger  think easiest time year feel dissatisfied\n",
       "20   anger             feel irritated rejected saying\n",
       "24   anger  feel like fucked dont usually eat morning"
      ]
     },
     "execution_count": 8,
     "metadata": {},
     "output_type": "execute_result"
    }
   ],
   "source": [
    "anger=df[df['Emotion'] == 'anger']\n",
    "anger.head()"
   ]
  },
  {
   "cell_type": "code",
   "execution_count": 9,
   "id": "b3acab89",
   "metadata": {},
   "outputs": [
    {
     "data": {
      "text/html": [
       "<div>\n",
       "<style scoped>\n",
       "    .dataframe tbody tr th:only-of-type {\n",
       "        vertical-align: middle;\n",
       "    }\n",
       "\n",
       "    .dataframe tbody tr th {\n",
       "        vertical-align: top;\n",
       "    }\n",
       "\n",
       "    .dataframe thead th {\n",
       "        text-align: right;\n",
       "    }\n",
       "</style>\n",
       "<table border=\"1\" class=\"dataframe\">\n",
       "  <thead>\n",
       "    <tr style=\"text-align: right;\">\n",
       "      <th></th>\n",
       "      <th>Emotion</th>\n",
       "      <th>Clean_text</th>\n",
       "    </tr>\n",
       "  </thead>\n",
       "  <tbody>\n",
       "    <tr>\n",
       "      <th>3</th>\n",
       "      <td>love</td>\n",
       "      <td>feeling nostalgic fireplace know property</td>\n",
       "    </tr>\n",
       "    <tr>\n",
       "      <th>9</th>\n",
       "      <td>love</td>\n",
       "      <td>feel romantic</td>\n",
       "    </tr>\n",
       "    <tr>\n",
       "      <th>47</th>\n",
       "      <td>love</td>\n",
       "      <td>let sad feeling want accepted home</td>\n",
       "    </tr>\n",
       "    <tr>\n",
       "      <th>61</th>\n",
       "      <td>love</td>\n",
       "      <td>ate feel gentle tingle feeling healing taking ...</td>\n",
       "    </tr>\n",
       "    <tr>\n",
       "      <th>68</th>\n",
       "      <td>love</td>\n",
       "      <td>suppose truth needs shared havent feeling fait...</td>\n",
       "    </tr>\n",
       "  </tbody>\n",
       "</table>\n",
       "</div>"
      ],
      "text/plain": [
       "   Emotion                                         Clean_text\n",
       "3     love          feeling nostalgic fireplace know property\n",
       "9     love                                      feel romantic\n",
       "47    love                 let sad feeling want accepted home\n",
       "61    love  ate feel gentle tingle feeling healing taking ...\n",
       "68    love  suppose truth needs shared havent feeling fait..."
      ]
     },
     "execution_count": 9,
     "metadata": {},
     "output_type": "execute_result"
    }
   ],
   "source": [
    "love=df[df['Emotion'] == 'love']\n",
    "love.head()"
   ]
  },
  {
   "cell_type": "code",
   "execution_count": 10,
   "id": "46d08000",
   "metadata": {},
   "outputs": [
    {
     "data": {
      "text/html": [
       "<div>\n",
       "<style scoped>\n",
       "    .dataframe tbody tr th:only-of-type {\n",
       "        vertical-align: middle;\n",
       "    }\n",
       "\n",
       "    .dataframe tbody tr th {\n",
       "        vertical-align: top;\n",
       "    }\n",
       "\n",
       "    .dataframe thead th {\n",
       "        text-align: right;\n",
       "    }\n",
       "</style>\n",
       "<table border=\"1\" class=\"dataframe\">\n",
       "  <thead>\n",
       "    <tr style=\"text-align: right;\">\n",
       "      <th></th>\n",
       "      <th>Emotion</th>\n",
       "      <th>Clean_text</th>\n",
       "    </tr>\n",
       "  </thead>\n",
       "  <tbody>\n",
       "    <tr>\n",
       "      <th>6</th>\n",
       "      <td>surprise</td>\n",
       "      <td>ive taking milligrams times recommended ive fa...</td>\n",
       "    </tr>\n",
       "    <tr>\n",
       "      <th>32</th>\n",
       "      <td>surprise</td>\n",
       "      <td>seen heard read past couple days left feeling ...</td>\n",
       "    </tr>\n",
       "    <tr>\n",
       "      <th>57</th>\n",
       "      <td>surprise</td>\n",
       "      <td>feeling pleasantly surprised supportiveness ea...</td>\n",
       "    </tr>\n",
       "    <tr>\n",
       "      <th>64</th>\n",
       "      <td>surprise</td>\n",
       "      <td>nearly finished week detox feel amazing</td>\n",
       "    </tr>\n",
       "    <tr>\n",
       "      <th>129</th>\n",
       "      <td>surprise</td>\n",
       "      <td>feel stranger strange land raising son place f...</td>\n",
       "    </tr>\n",
       "  </tbody>\n",
       "</table>\n",
       "</div>"
      ],
      "text/plain": [
       "      Emotion                                         Clean_text\n",
       "6    surprise  ive taking milligrams times recommended ive fa...\n",
       "32   surprise  seen heard read past couple days left feeling ...\n",
       "57   surprise  feeling pleasantly surprised supportiveness ea...\n",
       "64   surprise            nearly finished week detox feel amazing\n",
       "129  surprise  feel stranger strange land raising son place f..."
      ]
     },
     "execution_count": 10,
     "metadata": {},
     "output_type": "execute_result"
    }
   ],
   "source": [
    "surprise=df[df['Emotion'] == 'surprise']\n",
    "surprise.head()"
   ]
  },
  {
   "cell_type": "code",
   "execution_count": 11,
   "id": "2c44a280",
   "metadata": {},
   "outputs": [
    {
     "data": {
      "text/html": [
       "<div>\n",
       "<style scoped>\n",
       "    .dataframe tbody tr th:only-of-type {\n",
       "        vertical-align: middle;\n",
       "    }\n",
       "\n",
       "    .dataframe tbody tr th {\n",
       "        vertical-align: top;\n",
       "    }\n",
       "\n",
       "    .dataframe thead th {\n",
       "        text-align: right;\n",
       "    }\n",
       "</style>\n",
       "<table border=\"1\" class=\"dataframe\">\n",
       "  <thead>\n",
       "    <tr style=\"text-align: right;\">\n",
       "      <th></th>\n",
       "      <th>Emotion</th>\n",
       "      <th>Clean_text</th>\n",
       "    </tr>\n",
       "  </thead>\n",
       "  <tbody>\n",
       "    <tr>\n",
       "      <th>7</th>\n",
       "      <td>fear</td>\n",
       "      <td>feel confused life teenager jaded year old man</td>\n",
       "    </tr>\n",
       "    <tr>\n",
       "      <th>19</th>\n",
       "      <td>fear</td>\n",
       "      <td>feel compromised skeptical value unit work</td>\n",
       "    </tr>\n",
       "    <tr>\n",
       "      <th>21</th>\n",
       "      <td>fear</td>\n",
       "      <td>feeling completely overwhelmed strategies help...</td>\n",
       "    </tr>\n",
       "    <tr>\n",
       "      <th>31</th>\n",
       "      <td>fear</td>\n",
       "      <td>remember feeling acutely distressed days</td>\n",
       "    </tr>\n",
       "    <tr>\n",
       "      <th>53</th>\n",
       "      <td>fear</td>\n",
       "      <td>stymied little bit wrote feeling unsure story ...</td>\n",
       "    </tr>\n",
       "  </tbody>\n",
       "</table>\n",
       "</div>"
      ],
      "text/plain": [
       "   Emotion                                         Clean_text\n",
       "7     fear     feel confused life teenager jaded year old man\n",
       "19    fear         feel compromised skeptical value unit work\n",
       "21    fear  feeling completely overwhelmed strategies help...\n",
       "31    fear           remember feeling acutely distressed days\n",
       "53    fear  stymied little bit wrote feeling unsure story ..."
      ]
     },
     "execution_count": 11,
     "metadata": {},
     "output_type": "execute_result"
    }
   ],
   "source": [
    "fear=df[df['Emotion'] == 'fear']\n",
    "fear.head()"
   ]
  },
  {
   "cell_type": "code",
   "execution_count": 12,
   "id": "880be188",
   "metadata": {},
   "outputs": [
    {
     "data": {
      "text/html": [
       "<div>\n",
       "<style scoped>\n",
       "    .dataframe tbody tr th:only-of-type {\n",
       "        vertical-align: middle;\n",
       "    }\n",
       "\n",
       "    .dataframe tbody tr th {\n",
       "        vertical-align: top;\n",
       "    }\n",
       "\n",
       "    .dataframe thead th {\n",
       "        text-align: right;\n",
       "    }\n",
       "</style>\n",
       "<table border=\"1\" class=\"dataframe\">\n",
       "  <thead>\n",
       "    <tr style=\"text-align: right;\">\n",
       "      <th></th>\n",
       "      <th>Emotion</th>\n",
       "      <th>Clean_text</th>\n",
       "    </tr>\n",
       "  </thead>\n",
       "  <tbody>\n",
       "    <tr>\n",
       "      <th>8</th>\n",
       "      <td>happy</td>\n",
       "      <td>petronas years feel petronas performed huge pr...</td>\n",
       "    </tr>\n",
       "    <tr>\n",
       "      <th>11</th>\n",
       "      <td>happy</td>\n",
       "      <td>feel running divine experience expect type spi...</td>\n",
       "    </tr>\n",
       "    <tr>\n",
       "      <th>14</th>\n",
       "      <td>happy</td>\n",
       "      <td>immense sympathy general point possible proto ...</td>\n",
       "    </tr>\n",
       "    <tr>\n",
       "      <th>15</th>\n",
       "      <td>happy</td>\n",
       "      <td>feel reassured anxiety</td>\n",
       "    </tr>\n",
       "    <tr>\n",
       "      <th>22</th>\n",
       "      <td>happy</td>\n",
       "      <td>feeling amused delighted</td>\n",
       "    </tr>\n",
       "  </tbody>\n",
       "</table>\n",
       "</div>"
      ],
      "text/plain": [
       "   Emotion                                         Clean_text\n",
       "8    happy  petronas years feel petronas performed huge pr...\n",
       "11   happy  feel running divine experience expect type spi...\n",
       "14   happy  immense sympathy general point possible proto ...\n",
       "15   happy                             feel reassured anxiety\n",
       "22   happy                           feeling amused delighted"
      ]
     },
     "execution_count": 12,
     "metadata": {},
     "output_type": "execute_result"
    }
   ],
   "source": [
    "happy=df[df['Emotion'] == 'happy']\n",
    "happy.head()"
   ]
  },
  {
   "cell_type": "markdown",
   "id": "f9e5ae87",
   "metadata": {},
   "source": [
    "# Feature Extraction and Identification"
   ]
  },
  {
   "cell_type": "markdown",
   "id": "24202506",
   "metadata": {},
   "source": [
    "### Tesing"
   ]
  },
  {
   "cell_type": "code",
   "execution_count": 13,
   "id": "711cf892",
   "metadata": {},
   "outputs": [],
   "source": [
    "from sklearn.feature_extraction.text import CountVectorizer"
   ]
  },
  {
   "cell_type": "code",
   "execution_count": 43,
   "id": "9a2c4472",
   "metadata": {},
   "outputs": [],
   "source": [
    "from sklearn.feature_selection import mutual_info_classif, SelectKBest, chi2"
   ]
  },
  {
   "cell_type": "code",
   "execution_count": 14,
   "id": "9e39662a",
   "metadata": {},
   "outputs": [],
   "source": [
    "cv=CountVectorizer(max_features=5000, ngram_range=(1,4))"
   ]
  },
  {
   "cell_type": "code",
   "execution_count": 15,
   "id": "24f5cfb7",
   "metadata": {},
   "outputs": [],
   "source": [
    "X=cv.fit_transform(df['Clean_text']).toarray()"
   ]
  },
  {
   "cell_type": "code",
   "execution_count": 16,
   "id": "03a2fb7d",
   "metadata": {},
   "outputs": [
    {
     "data": {
      "text/plain": [
       "(21459, 5000)"
      ]
     },
     "execution_count": 16,
     "metadata": {},
     "output_type": "execute_result"
    }
   ],
   "source": [
    "X.shape"
   ]
  },
  {
   "cell_type": "code",
   "execution_count": 17,
   "id": "6436399b",
   "metadata": {},
   "outputs": [
    {
     "data": {
      "text/plain": [
       "numpy.ndarray"
      ]
     },
     "execution_count": 17,
     "metadata": {},
     "output_type": "execute_result"
    }
   ],
   "source": [
    "type(X)"
   ]
  },
  {
   "cell_type": "code",
   "execution_count": 18,
   "id": "3e0085ed",
   "metadata": {},
   "outputs": [
    {
     "data": {
      "text/plain": [
       "array([[0, 0, 0, ..., 0, 0, 0],\n",
       "       [0, 0, 0, ..., 0, 0, 0],\n",
       "       [0, 0, 0, ..., 0, 0, 0],\n",
       "       ...,\n",
       "       [0, 0, 0, ..., 0, 0, 0],\n",
       "       [0, 0, 0, ..., 0, 0, 0],\n",
       "       [0, 0, 0, ..., 0, 0, 0]], dtype=int64)"
      ]
     },
     "execution_count": 18,
     "metadata": {},
     "output_type": "execute_result"
    }
   ],
   "source": [
    "X"
   ]
  },
  {
   "cell_type": "code",
   "execution_count": 19,
   "id": "df23e0fc",
   "metadata": {},
   "outputs": [
    {
     "data": {
      "text/plain": [
       "['abandoned',\n",
       " 'abilities',\n",
       " 'ability',\n",
       " 'abit',\n",
       " 'able',\n",
       " 'able feel',\n",
       " 'able find',\n",
       " 'able help',\n",
       " 'absolute',\n",
       " 'absolutely',\n",
       " 'abuse',\n",
       " 'abused',\n",
       " 'accept',\n",
       " 'acceptable',\n",
       " 'acceptance',\n",
       " 'accepted',\n",
       " 'accepted allowed',\n",
       " 'accepting',\n",
       " 'access',\n",
       " 'accident']"
      ]
     },
     "execution_count": 19,
     "metadata": {},
     "output_type": "execute_result"
    }
   ],
   "source": [
    "cv.get_feature_names()[:20]"
   ]
  },
  {
   "cell_type": "code",
   "execution_count": 20,
   "id": "15a023d8",
   "metadata": {},
   "outputs": [],
   "source": [
    "X_sadness=cv.fit_transform(sadness['Clean_text']).toarray()"
   ]
  },
  {
   "cell_type": "code",
   "execution_count": 21,
   "id": "ba561dcd",
   "metadata": {},
   "outputs": [
    {
     "data": {
      "text/plain": [
       "(6265, 5000)"
      ]
     },
     "execution_count": 21,
     "metadata": {},
     "output_type": "execute_result"
    }
   ],
   "source": [
    "X_sadness.shape"
   ]
  },
  {
   "cell_type": "code",
   "execution_count": 22,
   "id": "3c299617",
   "metadata": {},
   "outputs": [
    {
     "data": {
      "text/plain": [
       "['abandoned',\n",
       " 'abilities',\n",
       " 'ability',\n",
       " 'abit',\n",
       " 'able',\n",
       " 'able feel',\n",
       " 'absolutely',\n",
       " 'absolutely devastated',\n",
       " 'absurd',\n",
       " 'abuse',\n",
       " 'abused',\n",
       " 'accept',\n",
       " 'accepted',\n",
       " 'accepted allowed',\n",
       " 'accepting',\n",
       " 'accident',\n",
       " 'accidentally',\n",
       " 'accompanied',\n",
       " 'accomplished',\n",
       " 'accomplishment']"
      ]
     },
     "execution_count": 22,
     "metadata": {},
     "output_type": "execute_result"
    }
   ],
   "source": [
    "cv.get_feature_names()[:20]"
   ]
  },
  {
   "cell_type": "code",
   "execution_count": 23,
   "id": "e741d16b",
   "metadata": {},
   "outputs": [
    {
     "data": {
      "text/html": [
       "<div>\n",
       "<style scoped>\n",
       "    .dataframe tbody tr th:only-of-type {\n",
       "        vertical-align: middle;\n",
       "    }\n",
       "\n",
       "    .dataframe tbody tr th {\n",
       "        vertical-align: top;\n",
       "    }\n",
       "\n",
       "    .dataframe thead th {\n",
       "        text-align: right;\n",
       "    }\n",
       "</style>\n",
       "<table border=\"1\" class=\"dataframe\">\n",
       "  <thead>\n",
       "    <tr style=\"text-align: right;\">\n",
       "      <th></th>\n",
       "      <th>abandoned</th>\n",
       "      <th>abilities</th>\n",
       "      <th>ability</th>\n",
       "      <th>abit</th>\n",
       "      <th>able</th>\n",
       "      <th>able feel</th>\n",
       "      <th>absolutely</th>\n",
       "      <th>absolutely devastated</th>\n",
       "      <th>absurd</th>\n",
       "      <th>abuse</th>\n",
       "      <th>...</th>\n",
       "      <th>yelled</th>\n",
       "      <th>yes</th>\n",
       "      <th>yesterday</th>\n",
       "      <th>youd</th>\n",
       "      <th>young</th>\n",
       "      <th>younger</th>\n",
       "      <th>youre</th>\n",
       "      <th>youre feeling</th>\n",
       "      <th>youve</th>\n",
       "      <th>youve trust</th>\n",
       "    </tr>\n",
       "  </thead>\n",
       "  <tbody>\n",
       "    <tr>\n",
       "      <th>0</th>\n",
       "      <td>0</td>\n",
       "      <td>0</td>\n",
       "      <td>0</td>\n",
       "      <td>0</td>\n",
       "      <td>0</td>\n",
       "      <td>0</td>\n",
       "      <td>0</td>\n",
       "      <td>0</td>\n",
       "      <td>0</td>\n",
       "      <td>0</td>\n",
       "      <td>...</td>\n",
       "      <td>0</td>\n",
       "      <td>0</td>\n",
       "      <td>0</td>\n",
       "      <td>0</td>\n",
       "      <td>0</td>\n",
       "      <td>0</td>\n",
       "      <td>0</td>\n",
       "      <td>0</td>\n",
       "      <td>0</td>\n",
       "      <td>0</td>\n",
       "    </tr>\n",
       "    <tr>\n",
       "      <th>1</th>\n",
       "      <td>0</td>\n",
       "      <td>0</td>\n",
       "      <td>0</td>\n",
       "      <td>0</td>\n",
       "      <td>0</td>\n",
       "      <td>0</td>\n",
       "      <td>0</td>\n",
       "      <td>0</td>\n",
       "      <td>0</td>\n",
       "      <td>0</td>\n",
       "      <td>...</td>\n",
       "      <td>0</td>\n",
       "      <td>0</td>\n",
       "      <td>0</td>\n",
       "      <td>0</td>\n",
       "      <td>0</td>\n",
       "      <td>0</td>\n",
       "      <td>0</td>\n",
       "      <td>0</td>\n",
       "      <td>0</td>\n",
       "      <td>0</td>\n",
       "    </tr>\n",
       "    <tr>\n",
       "      <th>2</th>\n",
       "      <td>0</td>\n",
       "      <td>0</td>\n",
       "      <td>0</td>\n",
       "      <td>0</td>\n",
       "      <td>0</td>\n",
       "      <td>0</td>\n",
       "      <td>0</td>\n",
       "      <td>0</td>\n",
       "      <td>0</td>\n",
       "      <td>0</td>\n",
       "      <td>...</td>\n",
       "      <td>0</td>\n",
       "      <td>0</td>\n",
       "      <td>0</td>\n",
       "      <td>0</td>\n",
       "      <td>0</td>\n",
       "      <td>0</td>\n",
       "      <td>0</td>\n",
       "      <td>0</td>\n",
       "      <td>0</td>\n",
       "      <td>0</td>\n",
       "    </tr>\n",
       "    <tr>\n",
       "      <th>3</th>\n",
       "      <td>0</td>\n",
       "      <td>0</td>\n",
       "      <td>0</td>\n",
       "      <td>0</td>\n",
       "      <td>0</td>\n",
       "      <td>0</td>\n",
       "      <td>0</td>\n",
       "      <td>0</td>\n",
       "      <td>0</td>\n",
       "      <td>0</td>\n",
       "      <td>...</td>\n",
       "      <td>0</td>\n",
       "      <td>0</td>\n",
       "      <td>0</td>\n",
       "      <td>0</td>\n",
       "      <td>0</td>\n",
       "      <td>0</td>\n",
       "      <td>0</td>\n",
       "      <td>0</td>\n",
       "      <td>0</td>\n",
       "      <td>0</td>\n",
       "    </tr>\n",
       "    <tr>\n",
       "      <th>4</th>\n",
       "      <td>0</td>\n",
       "      <td>0</td>\n",
       "      <td>0</td>\n",
       "      <td>0</td>\n",
       "      <td>0</td>\n",
       "      <td>0</td>\n",
       "      <td>0</td>\n",
       "      <td>0</td>\n",
       "      <td>0</td>\n",
       "      <td>0</td>\n",
       "      <td>...</td>\n",
       "      <td>0</td>\n",
       "      <td>0</td>\n",
       "      <td>0</td>\n",
       "      <td>0</td>\n",
       "      <td>0</td>\n",
       "      <td>0</td>\n",
       "      <td>0</td>\n",
       "      <td>0</td>\n",
       "      <td>0</td>\n",
       "      <td>0</td>\n",
       "    </tr>\n",
       "  </tbody>\n",
       "</table>\n",
       "<p>5 rows × 5000 columns</p>\n",
       "</div>"
      ],
      "text/plain": [
       "   abandoned  abilities  ability  abit  able  able feel  absolutely  \\\n",
       "0          0          0        0     0     0          0           0   \n",
       "1          0          0        0     0     0          0           0   \n",
       "2          0          0        0     0     0          0           0   \n",
       "3          0          0        0     0     0          0           0   \n",
       "4          0          0        0     0     0          0           0   \n",
       "\n",
       "   absolutely devastated  absurd  abuse  ...  yelled  yes  yesterday  youd  \\\n",
       "0                      0       0      0  ...       0    0          0     0   \n",
       "1                      0       0      0  ...       0    0          0     0   \n",
       "2                      0       0      0  ...       0    0          0     0   \n",
       "3                      0       0      0  ...       0    0          0     0   \n",
       "4                      0       0      0  ...       0    0          0     0   \n",
       "\n",
       "   young  younger  youre  youre feeling  youve  youve trust  \n",
       "0      0        0      0              0      0            0  \n",
       "1      0        0      0              0      0            0  \n",
       "2      0        0      0              0      0            0  \n",
       "3      0        0      0              0      0            0  \n",
       "4      0        0      0              0      0            0  \n",
       "\n",
       "[5 rows x 5000 columns]"
      ]
     },
     "execution_count": 23,
     "metadata": {},
     "output_type": "execute_result"
    }
   ],
   "source": [
    "sadness_df=pd.DataFrame(X_sadness, columns=cv.get_feature_names())\n",
    "sadness_df.head()"
   ]
  },
  {
   "cell_type": "code",
   "execution_count": 24,
   "id": "8421cfe6",
   "metadata": {},
   "outputs": [
    {
     "data": {
      "text/plain": [
       "2"
      ]
     },
     "execution_count": 24,
     "metadata": {},
     "output_type": "execute_result"
    }
   ],
   "source": [
    "max(sadness_df['abuse'])"
   ]
  },
  {
   "cell_type": "code",
   "execution_count": 28,
   "id": "22c1a11a",
   "metadata": {},
   "outputs": [
    {
     "data": {
      "text/plain": [
       "1"
      ]
     },
     "execution_count": 28,
     "metadata": {},
     "output_type": "execute_result"
    }
   ],
   "source": [
    "max(sadness_df['accomplishment'])"
   ]
  },
  {
   "cell_type": "code",
   "execution_count": 29,
   "id": "79151805",
   "metadata": {},
   "outputs": [
    {
     "data": {
      "text/plain": [
       "(6265,)"
      ]
     },
     "execution_count": 29,
     "metadata": {},
     "output_type": "execute_result"
    }
   ],
   "source": [
    "y_sadness=sadness['Emotion']\n",
    "y_sadness.shape"
   ]
  },
  {
   "cell_type": "code",
   "execution_count": 31,
   "id": "70bac0f8",
   "metadata": {},
   "outputs": [],
   "source": [
    "mi_sad=mutual_info_classif(X_sadness, y_sadness)"
   ]
  },
  {
   "cell_type": "code",
   "execution_count": 32,
   "id": "a3101aea",
   "metadata": {},
   "outputs": [
    {
     "data": {
      "text/plain": [
       "array([0., 0., 0., ..., 0., 0., 0.])"
      ]
     },
     "execution_count": 32,
     "metadata": {},
     "output_type": "execute_result"
    }
   ],
   "source": [
    "mi_sad"
   ]
  },
  {
   "cell_type": "code",
   "execution_count": 34,
   "id": "e1fe6bc1",
   "metadata": {},
   "outputs": [
    {
     "data": {
      "text/plain": [
       "pandas.core.series.Series"
      ]
     },
     "execution_count": 34,
     "metadata": {},
     "output_type": "execute_result"
    }
   ],
   "source": [
    "mi_sad=pd.Series(mi_sad)\n",
    "mi_sad.index=sadness_df.columns\n",
    "type(mi_sad)"
   ]
  },
  {
   "cell_type": "code",
   "execution_count": 35,
   "id": "0a0a6d02",
   "metadata": {},
   "outputs": [
    {
     "data": {
      "text/plain": [
       "abandoned    0.0\n",
       "abilities    0.0\n",
       "ability      0.0\n",
       "abit         0.0\n",
       "able         0.0\n",
       "dtype: float64"
      ]
     },
     "execution_count": 35,
     "metadata": {},
     "output_type": "execute_result"
    }
   ],
   "source": [
    "mi_sad.head()"
   ]
  },
  {
   "cell_type": "code",
   "execution_count": 37,
   "id": "7a1c5344",
   "metadata": {},
   "outputs": [
    {
     "data": {
      "text/plain": [
       "feel              0.000399\n",
       "fake              0.000239\n",
       "feeling           0.000239\n",
       "work              0.000080\n",
       "admit             0.000080\n",
       "abandoned         0.000000\n",
       "overcome grief    0.000000\n",
       "owned             0.000000\n",
       "overwhelmingly    0.000000\n",
       "overwhelming      0.000000\n",
       "dtype: float64"
      ]
     },
     "execution_count": 37,
     "metadata": {},
     "output_type": "execute_result"
    }
   ],
   "source": [
    "mi_sad.sort_values(ascending=False).head(10)"
   ]
  },
  {
   "cell_type": "code",
   "execution_count": 41,
   "id": "dbed442c",
   "metadata": {},
   "outputs": [
    {
     "data": {
      "text/plain": [
       "SelectKBest(k=20,\n",
       "            score_func=<function mutual_info_classif at 0x0000025F75D909D0>)"
      ]
     },
     "execution_count": 41,
     "metadata": {},
     "output_type": "execute_result"
    }
   ],
   "source": [
    "mi_sad_top5=SelectKBest(mutual_info_classif, k=20)\n",
    "mi_sad_top5.fit(X_sadness, y_sadness)"
   ]
  },
  {
   "cell_type": "code",
   "execution_count": 42,
   "id": "8b66e7c9",
   "metadata": {},
   "outputs": [
    {
     "data": {
      "text/plain": [
       "Index(['feel', 'feeling', 'know', 'time feel', 'year feeling', 'year old',\n",
       "       'year school', 'years', 'years ago', 'yell', 'yelled', 'yes',\n",
       "       'yesterday', 'youd', 'young', 'younger', 'youre', 'youre feeling',\n",
       "       'youve', 'youve trust'],\n",
       "      dtype='object')"
      ]
     },
     "execution_count": 42,
     "metadata": {},
     "output_type": "execute_result"
    }
   ],
   "source": [
    "sadness_df.columns[mi_sad_top5.get_support()]"
   ]
  },
  {
   "cell_type": "code",
   "execution_count": 45,
   "id": "2d2a6955",
   "metadata": {},
   "outputs": [
    {
     "data": {
      "text/plain": [
       "youve trust     NaN\n",
       "youve           NaN\n",
       "youre feeling   NaN\n",
       "youre           NaN\n",
       "younger         NaN\n",
       "young           NaN\n",
       "youd            NaN\n",
       "yesterday       NaN\n",
       "yes             NaN\n",
       "yelled          NaN\n",
       "yell            NaN\n",
       "years ago       NaN\n",
       "years           NaN\n",
       "year school     NaN\n",
       "year old        NaN\n",
       "year feeling    NaN\n",
       "year            NaN\n",
       "yeah            NaN\n",
       "ya              NaN\n",
       "www             NaN\n",
       "dtype: float64"
      ]
     },
     "execution_count": 45,
     "metadata": {},
     "output_type": "execute_result"
    }
   ],
   "source": [
    "mi_sad_chi=chi2(X_sadness, y_sadness)\n",
    "mi_sad_chi=pd.Series(mi_sad_chi[1])\n",
    "mi_sad_chi.index=sadness_df.columns\n",
    "mi_sad_chi.sort_index(ascending=False).head(20)"
   ]
  },
  {
   "cell_type": "code",
   "execution_count": 46,
   "id": "c71ad06c",
   "metadata": {},
   "outputs": [
    {
     "data": {
      "text/plain": [
       "Index(['feel', 'years life', 'years old', 'yeast', 'yell', 'yelled', 'yelling',\n",
       "       'yes', 'yesterday', 'yomis', 'yomis voice', 'york', 'youd', 'young',\n",
       "       'younger', 'younger disabled', 'youngsters', 'youre', 'youre feeling',\n",
       "       'youth'],\n",
       "      dtype='object')"
      ]
     },
     "execution_count": 46,
     "metadata": {},
     "output_type": "execute_result"
    }
   ],
   "source": [
    "X_anger=cv.fit_transform(anger['Clean_text']).toarray()\n",
    "anger_df=pd.DataFrame(X_anger, columns=cv.get_feature_names())\n",
    "y_anger=anger['Emotion']\n",
    "mi_anger_top5=SelectKBest(mutual_info_classif, k=20)\n",
    "mi_anger_top5.fit(X_anger, y_anger)\n",
    "anger_df.columns[mi_anger_top5.get_support()]"
   ]
  },
  {
   "cell_type": "markdown",
   "id": "efba9c80",
   "metadata": {},
   "source": [
    "### Select k Best"
   ]
  },
  {
   "cell_type": "code",
   "execution_count": 47,
   "id": "e47583ae",
   "metadata": {},
   "outputs": [],
   "source": [
    "def feature_identification(data):\n",
    "    X=cv.fit_transform(data['Clean_text']).toarray()\n",
    "    df=pd.DataFrame(X, columns=cv.get_feature_names())\n",
    "    y=data['Emotion']\n",
    "    feature_top20=SelectKBest(mutual_info_classif, k=20)\n",
    "    feature_top20.fit(X, y)\n",
    "    return df.columns[feature_top20.get_support()]"
   ]
  },
  {
   "cell_type": "code",
   "execution_count": 48,
   "id": "69401833",
   "metadata": {},
   "outputs": [
    {
     "name": "stdout",
     "output_type": "stream",
     "text": [
      "Index(['feel', 'feel like', 'feeling', 'things', 'year feeling', 'year old',\n",
      "       'year school', 'years', 'years ago', 'yell', 'yelled', 'yes',\n",
      "       'yesterday', 'youd', 'young', 'younger', 'youre', 'youre feeling',\n",
      "       'youve', 'youve trust'],\n",
      "      dtype='object')\n"
     ]
    }
   ],
   "source": [
    "sadness_top20_features=feature_identification(sadness)\n",
    "print(sadness_top20_features)"
   ]
  },
  {
   "cell_type": "code",
   "execution_count": 49,
   "id": "63703546",
   "metadata": {},
   "outputs": [
    {
     "name": "stdout",
     "output_type": "stream",
     "text": [
      "Index(['feel', 'years life', 'years old', 'yeast', 'yell', 'yelled', 'yelling',\n",
      "       'yes', 'yesterday', 'yomis', 'yomis voice', 'york', 'youd', 'young',\n",
      "       'younger', 'younger disabled', 'youngsters', 'youre', 'youre feeling',\n",
      "       'youth'],\n",
      "      dtype='object')\n"
     ]
    }
   ],
   "source": [
    "anger_top20_features=feature_identification(anger)\n",
    "print(anger_top20_features)"
   ]
  },
  {
   "cell_type": "code",
   "execution_count": 50,
   "id": "96f74c50",
   "metadata": {},
   "outputs": [
    {
     "name": "stdout",
     "output_type": "stream",
     "text": [
      "Index(['feel', 'wrote', 'www', 'ya', 'yash', 'year', 'year feel', 'year old',\n",
      "       'year olds', 'years', 'years ago', 'yes', 'yesterday', 'yoga',\n",
      "       'yoga class', 'young', 'younger', 'youre', 'youtube', 'youve'],\n",
      "      dtype='object')\n"
     ]
    }
   ],
   "source": [
    "love_top20_features=feature_identification(love)\n",
    "print(love_top20_features)"
   ]
  },
  {
   "cell_type": "code",
   "execution_count": 51,
   "id": "74da64a1",
   "metadata": {},
   "outputs": [
    {
     "name": "stdout",
     "output_type": "stream",
     "text": [
      "Index(['work', 'worked', 'workers', 'working', 'works', 'world', 'worth',\n",
      "       'wouldnt', 'write', 'writing', 'written', 'wrong', 'year', 'year old',\n",
      "       'years', 'yesterday', 'yesterday feel', 'young', 'younger', 'youre'],\n",
      "      dtype='object')\n"
     ]
    }
   ],
   "source": [
    "surprise_top20_features=feature_identification(surprise)\n",
    "print(surprise_top20_features)"
   ]
  },
  {
   "cell_type": "code",
   "execution_count": 52,
   "id": "cbd24d4e",
   "metadata": {},
   "outputs": [
    {
     "name": "stdout",
     "output_type": "stream",
     "text": [
      "Index(['feel', 'xmas', 'xmas hate', 'yeah', 'year', 'year ago', 'year old',\n",
      "       'years', 'years ago', 'years feeling', 'years old', 'yes', 'yesterday',\n",
      "       'yesterday feeling', 'yoga', 'youll', 'young', 'younger', 'youre',\n",
      "       'youre feeling'],\n",
      "      dtype='object')\n"
     ]
    }
   ],
   "source": [
    "fear_top20_features=feature_identification(fear)\n",
    "print(fear_top20_features)"
   ]
  },
  {
   "cell_type": "code",
   "execution_count": 53,
   "id": "b7bc7329",
   "metadata": {},
   "outputs": [
    {
     "name": "stdout",
     "output_type": "stream",
     "text": [
      "Index(['feel', 'feel like', 'feeling', 'years ago', 'years feel', 'yes',\n",
      "       'yesterday', 'yo', 'yoga', 'youll', 'young', 'young man', 'young woman',\n",
      "       'younger', 'youre', 'youth', 'youtube', 'youve', 'zero', 'zone'],\n",
      "      dtype='object')\n"
     ]
    }
   ],
   "source": [
    "happy_top20_features=feature_identification(happy)\n",
    "print(happy_top20_features)"
   ]
  },
  {
   "cell_type": "code",
   "execution_count": 54,
   "id": "1fffd807",
   "metadata": {},
   "outputs": [
    {
     "name": "stdout",
     "output_type": "stream",
     "text": [
      "Index(['conversation', 'distressed', 'divine', 'feel devastated',\n",
      "       'feel strange', 'feeling annoyed', 'feeling awfully', 'feeling ok',\n",
      "       'feeling tortured', 'impressed', 'like dont', 'lovely',\n",
      "       'makes feel like', 'negative emotions', 'numb', 'paris', 'result',\n",
      "       'small', 'strange', 'work'],\n",
      "      dtype='object')\n"
     ]
    }
   ],
   "source": [
    "df_top20_features=feature_identification(df)\n",
    "print(df_top20_features)"
   ]
  },
  {
   "cell_type": "markdown",
   "id": "d405ef86",
   "metadata": {},
   "source": [
    "### Mutual Info Classifier"
   ]
  },
  {
   "cell_type": "code",
   "execution_count": 55,
   "id": "1e34aa89",
   "metadata": {},
   "outputs": [],
   "source": [
    "def feature_identification(data):\n",
    "    X=cv.fit_transform(data['Clean_text']).toarray()\n",
    "    df=pd.DataFrame(X, columns=cv.get_feature_names())\n",
    "    y=data['Emotion']\n",
    "    feature_top20=mutual_info_classif(X, y)\n",
    "    feature_top20=pd.Series(feature_top20)\n",
    "    feature_top20.index=df.columns\n",
    "    return feature_top20.sort_values(ascending=False).head(20)"
   ]
  },
  {
   "cell_type": "code",
   "execution_count": 56,
   "id": "793a5b12",
   "metadata": {},
   "outputs": [
    {
     "name": "stdout",
     "output_type": "stream",
     "text": [
      "feel               0.000559\n",
      "feeling            0.000160\n",
      "need               0.000080\n",
      "overall feel       0.000000\n",
      "overwhelmingly     0.000000\n",
      "overwhelming       0.000000\n",
      "overwhelmed        0.000000\n",
      "overly             0.000000\n",
      "overcome grief     0.000000\n",
      "overcome           0.000000\n",
      "abandoned          0.000000\n",
      "oz                 0.000000\n",
      "overall            0.000000\n",
      "outsider           0.000000\n",
      "outside world      0.000000\n",
      "outside window     0.000000\n",
      "outside control    0.000000\n",
      "outside            0.000000\n",
      "outings            0.000000\n",
      "owned              0.000000\n",
      "dtype: float64\n"
     ]
    }
   ],
   "source": [
    "sadness_top20_features=feature_identification(sadness)\n",
    "print(sadness_top20_features)"
   ]
  },
  {
   "cell_type": "code",
   "execution_count": 57,
   "id": "876d1f0e",
   "metadata": {},
   "outputs": [
    {
     "name": "stdout",
     "output_type": "stream",
     "text": [
      "feel                                3.341129e-04\n",
      "abandoned                           1.221245e-15\n",
      "parents feel enraged child          1.221245e-15\n",
      "parents hours                       1.221245e-15\n",
      "parents government need work        1.221245e-15\n",
      "parents government need             1.221245e-15\n",
      "parents government                  1.221245e-15\n",
      "parents furious engagement busin    1.221245e-15\n",
      "parents furious engagement          1.221245e-15\n",
      "parents furious                     1.221245e-15\n",
      "parents feel enraged                1.221245e-15\n",
      "parents issues let                  1.221245e-15\n",
      "parents feel                        1.221245e-15\n",
      "parents exasperation oh ll          1.221245e-15\n",
      "parents exasperation oh             1.221245e-15\n",
      "parents exasperation                1.221245e-15\n",
      "parents cos know id                 1.221245e-15\n",
      "parents cos know                    1.221245e-15\n",
      "parents issues                      1.221245e-15\n",
      "parents issues let know             1.221245e-15\n",
      "dtype: float64\n"
     ]
    }
   ],
   "source": [
    "anger_top20_features=feature_identification(anger)\n",
    "print(anger_top20_features)"
   ]
  },
  {
   "cell_type": "code",
   "execution_count": 58,
   "id": "b4b147e2",
   "metadata": {},
   "outputs": [
    {
     "name": "stdout",
     "output_type": "stream",
     "text": [
      "ability                            0\n",
      "plan excellent                     0\n",
      "plan run miles                     0\n",
      "plan run                           0\n",
      "plan jumping ship mid              0\n",
      "plan jumping ship                  0\n",
      "plan jumping                       0\n",
      "plan excellent catholic schools    0\n",
      "plan excellent catholic            0\n",
      "plan doesnt taste sweet            0\n",
      "plan stand                         0\n",
      "plan doesnt taste                  0\n",
      "plan doesnt                        0\n",
      "plan arrangements real pain        0\n",
      "plan arrangements real             0\n",
      "plan arrangements                  0\n",
      "plan action                        0\n",
      "plan                               0\n",
      "plan run miles morning             0\n",
      "plan stand money                   0\n",
      "dtype: int32\n"
     ]
    }
   ],
   "source": [
    "love_top20_features=feature_identification(love)\n",
    "print(love_top20_features)"
   ]
  },
  {
   "cell_type": "code",
   "execution_count": 59,
   "id": "635befa9",
   "metadata": {},
   "outputs": [
    {
     "name": "stdout",
     "output_type": "stream",
     "text": [
      "1980                                 1.221245e-15\n",
      "personal sandblog admitting          1.221245e-15\n",
      "personally feel                      1.221245e-15\n",
      "personally                           1.221245e-15\n",
      "personality novel strange cross      1.221245e-15\n",
      "personality novel strange            1.221245e-15\n",
      "personality novel                    1.221245e-15\n",
      "personality                          1.221245e-15\n",
      "personal sandblog admitting helps    1.221245e-15\n",
      "personal sandblog                    1.221245e-15\n",
      "personally feel amazed managed       1.221245e-15\n",
      "personal life feel curious           1.221245e-15\n",
      "personal life feel                   1.221245e-15\n",
      "personal life                        1.221245e-15\n",
      "personal                             1.221245e-15\n",
      "person swoons life stories           1.221245e-15\n",
      "person swoons life                   1.221245e-15\n",
      "person swoons                        1.221245e-15\n",
      "personally feel amazed               1.221245e-15\n",
      "persons                              1.221245e-15\n",
      "dtype: float64\n"
     ]
    }
   ],
   "source": [
    "surprise_top20_features=feature_identification(surprise)\n",
    "print(surprise_top20_features)"
   ]
  },
  {
   "cell_type": "code",
   "execution_count": 60,
   "id": "915b8866",
   "metadata": {},
   "outputs": [
    {
     "name": "stdout",
     "output_type": "stream",
     "text": [
      "10                              0\n",
      "pretty scared silly             0\n",
      "pretty shy right                0\n",
      "pretty shy                      0\n",
      "pretty shaky sad                0\n",
      "pretty shaky business           0\n",
      "pretty shaky                    0\n",
      "pretty shaken moment            0\n",
      "pretty shaken                   0\n",
      "pretty scared                   0\n",
      "pretty soon                     0\n",
      "pretty restless right typing    0\n",
      "pretty restless right           0\n",
      "pretty restless                 0\n",
      "pretty paranoid trying cover    0\n",
      "pretty paranoid trying          0\n",
      "pretty paranoid lot dont        0\n",
      "pretty paranoid lot             0\n",
      "pretty shy right dont           0\n",
      "pretty strange                  0\n",
      "dtype: int32\n"
     ]
    }
   ],
   "source": [
    "fear_top20_features=feature_identification(fear)\n",
    "print(fear_top20_features)"
   ]
  },
  {
   "cell_type": "code",
   "execution_count": 61,
   "id": "627b8b5e",
   "metadata": {},
   "outputs": [
    {
     "name": "stdout",
     "output_type": "stream",
     "text": [
      "feel                 0.000498\n",
      "feeling              0.000142\n",
      "optimistic today     0.000000\n",
      "organic              0.000000\n",
      "ordered              0.000000\n",
      "order                0.000000\n",
      "orange               0.000000\n",
      "options              0.000000\n",
      "option               0.000000\n",
      "optimistic future    0.000000\n",
      "original             0.000000\n",
      "optimistic           0.000000\n",
      "opportunity          0.000000\n",
      "opinions             0.000000\n",
      "opinion              0.000000\n",
      "openly               0.000000\n",
      "opening              0.000000\n",
      "open suggestions     0.000000\n",
      "organised            0.000000\n",
      "ought                0.000000\n",
      "dtype: float64\n"
     ]
    }
   ],
   "source": [
    "happy_top20_features=feature_identification(happy)\n",
    "print(happy_top20_features)"
   ]
  },
  {
   "cell_type": "code",
   "execution_count": 62,
   "id": "cec5c4ba",
   "metadata": {},
   "outputs": [
    {
     "name": "stdout",
     "output_type": "stream",
     "text": [
      "horny             0.016358\n",
      "orange            0.016170\n",
      "punished          0.015684\n",
      "feel reluctant    0.014807\n",
      "winter            0.014789\n",
      "supportive        0.014642\n",
      "strange           0.014612\n",
      "gentle            0.014517\n",
      "amazed            0.013992\n",
      "saving            0.013916\n",
      "frightened        0.013617\n",
      "offended          0.013606\n",
      "deprived          0.013087\n",
      "camp              0.012975\n",
      "soup              0.012950\n",
      "feeling guilty    0.012854\n",
      "nd                0.012535\n",
      "isolated          0.012428\n",
      "feel shy          0.012302\n",
      "british           0.012196\n",
      "dtype: float64\n"
     ]
    }
   ],
   "source": [
    "df_top20_features=feature_identification(df)\n",
    "print(df_top20_features)"
   ]
  },
  {
   "cell_type": "code",
   "execution_count": null,
   "id": "680304fd",
   "metadata": {},
   "outputs": [],
   "source": []
  }
 ],
 "metadata": {
  "kernelspec": {
   "display_name": "Python 3",
   "language": "python",
   "name": "python3"
  },
  "language_info": {
   "codemirror_mode": {
    "name": "ipython",
    "version": 3
   },
   "file_extension": ".py",
   "mimetype": "text/x-python",
   "name": "python",
   "nbconvert_exporter": "python",
   "pygments_lexer": "ipython3",
   "version": "3.8.8"
  }
 },
 "nbformat": 4,
 "nbformat_minor": 5
}
